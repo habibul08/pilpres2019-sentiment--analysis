{
  "cells": [
    {
      "cell_type": "markdown",
      "metadata": {
        "id": "view-in-github",
        "colab_type": "text"
      },
      "source": [
        "<a href=\"https://colab.research.google.com/github/Medianto09/Sentimen-Analisis-Pilpres-2019/blob/main/Sentiment_Analysis_Pilpres_2019.ipynb\" target=\"_parent\"><img src=\"https://colab.research.google.com/assets/colab-badge.svg\" alt=\"Open In Colab\"/></a>"
      ]
    },
    {
      "cell_type": "markdown",
      "source": [
        "# Project Sentiment Analysis Indonesia Presidential Election 2019\n",
        "\n",
        "Background:\n",
        "> Twitter became a large forum for public discussion during the 2019 presidential election because there were around 5.7 million tweets per day related to the 2019 presidential election. This relatively large amount of data can be used for various analyses, one of which is sentiment analysis.\n",
        "\n",
        "> Tweet sentiment analysis is important for understanding public opinion towards candidates and related issues. This can help campaign teams, media, researchers and the public. Analyzing sentiment can reveal issues highlighted by the public, perceptions of candidates, support, and the impact of misinformation.\n",
        "\n",
        "* Objectives ;\n",
        "> Developing machine learning and deep learning models to classify three sentiments (positive, neutral and negative) from tweets related to the 2019 presidential election in Indonesia.\n",
        "\n",
        "* Scope & Limitations\n",
        "> Uses tweet data along with sentiment labels that have been provided & cannot be changed\n",
        "\n",
        "> The models used are limited to Random Forest Classifier (machine learning) and LSTM (deep learning)"
      ],
      "metadata": {
        "id": "QfICteO5VQq6"
      }
    },
    {
      "cell_type": "markdown",
      "source": [
        "# Prepare Library"
      ],
      "metadata": {
        "id": "zIzkG8LbYOD6"
      }
    },
    {
      "cell_type": "code",
      "execution_count": null,
      "metadata": {
        "colab": {
          "base_uri": "https://localhost:8080/"
        },
        "id": "Ale6FRImMxJ6",
        "outputId": "15d8abd7-5a3d-4601-f32a-959646aae674"
      },
      "outputs": [
        {
          "output_type": "stream",
          "name": "stdout",
          "text": [
            "Requirement already satisfied: emoji in /usr/local/lib/python3.10/dist-packages (2.10.1)\n",
            "Requirement already satisfied: nltk in /usr/local/lib/python3.10/dist-packages (3.8.1)\n",
            "Requirement already satisfied: click in /usr/local/lib/python3.10/dist-packages (from nltk) (8.1.7)\n",
            "Requirement already satisfied: joblib in /usr/local/lib/python3.10/dist-packages (from nltk) (1.3.2)\n",
            "Requirement already satisfied: regex>=2021.8.3 in /usr/local/lib/python3.10/dist-packages (from nltk) (2023.12.25)\n",
            "Requirement already satisfied: tqdm in /usr/local/lib/python3.10/dist-packages (from nltk) (4.66.2)\n"
          ]
        },
        {
          "output_type": "stream",
          "name": "stderr",
          "text": [
            "[nltk_data] Downloading package stopwords to /root/nltk_data...\n",
            "[nltk_data]   Package stopwords is already up-to-date!\n"
          ]
        }
      ],
      "source": [
        "!pip install emoji\n",
        "!pip install nltk\n",
        "\n",
        "\n",
        "import pandas as pd\n",
        "import nltk\n",
        "import emoji\n",
        "import seaborn as sns\n",
        "import os\n",
        "import matplotlib.pyplot as plt\n",
        "import numpy as np\n",
        "\n",
        "from keras.preprocessing.text import Tokenizer\n",
        "from keras.preprocessing.sequence import pad_sequences\n",
        "from keras.models import Sequential\n",
        "from keras.layers import LSTM, Dense, Embedding, Dropout\n",
        "\n",
        "from nltk.corpus import stopwords\n",
        "from nltk.tokenize import word_tokenize\n",
        "from nltk.stem import PorterStemmer\n",
        "from nltk.corpus import stopwords\n",
        "from nltk.tokenize import word_tokenize\n",
        "from sklearn.metrics import accuracy_score, classification_report\n",
        "nltk.download('stopwords')\n",
        "\n",
        "from sklearn.feature_extraction.text import TfidfVectorizer\n",
        "from sklearn.model_selection import train_test_split\n",
        "from sklearn.ensemble import RandomForestClassifier\n",
        "from sklearn.preprocessing import LabelEncoder\n",
        "from sklearn.metrics import accuracy_score\n",
        "\n",
        "\n",
        "# Define stopwords for Indonesian language\n",
        "\n",
        "stop_words = set('indonesian')  # Tentukan bahasa\n",
        "\n"
      ]
    },
    {
      "cell_type": "markdown",
      "source": [
        "# Load & Understand Dataset"
      ],
      "metadata": {
        "id": "7XYJgFAGYZsC"
      }
    },
    {
      "cell_type": "code",
      "execution_count": null,
      "metadata": {
        "id": "k3gMOVSHMzjp",
        "colab": {
          "base_uri": "https://localhost:8080/"
        },
        "outputId": "9e636c24-6afb-40d3-c100-5627a1969d85"
      },
      "outputs": [
        {
          "output_type": "stream",
          "name": "stdout",
          "text": [
            "Drive already mounted at /content/drive; to attempt to forcibly remount, call drive.mount(\"/content/drive\", force_remount=True).\n"
          ]
        }
      ],
      "source": [
        "from google.colab import drive\n",
        "drive.mount('/content/drive')\n",
        "custom_params = {\"axes.spines.right\": False, \"axes.spines.top\": False}\n",
        "sns.set_theme(style=\"ticks\", rc=custom_params)\n",
        "pd.set_option('display.max_colwidth', 25)\n",
        "pd.set_option('display.max_columns', 500)\n",
        "pd.set_option('display.max_rows', 500)\n"
      ]
    },
    {
      "cell_type": "code",
      "source": [
        "path = os.getcwd()\n",
        "project_path = '/content/drive/MyDrive/Project Sentiment Analysis Pilpres 2019'\n",
        "full_project_path = os.path.join(path, project_path)\n",
        "dataset_name = 'tweet.csv'\n",
        "\n",
        "data = pd.read_csv(os.path.join(full_project_path, dataset_name), encoding='utf-8')\n",
        "\n",
        "data.info()"
      ],
      "metadata": {
        "colab": {
          "base_uri": "https://localhost:8080/"
        },
        "id": "YUL9uNrKVYdU",
        "outputId": "1b7192d5-a737-4498-ff26-20ecf5f3b679"
      },
      "execution_count": null,
      "outputs": [
        {
          "output_type": "stream",
          "name": "stdout",
          "text": [
            "<class 'pandas.core.frame.DataFrame'>\n",
            "RangeIndex: 1815 entries, 0 to 1814\n",
            "Data columns (total 3 columns):\n",
            " #   Column      Non-Null Count  Dtype \n",
            "---  ------      --------------  ----- \n",
            " 0   Unnamed: 0  1815 non-null   int64 \n",
            " 1   sentimen    1815 non-null   object\n",
            " 2   tweet       1815 non-null   object\n",
            "dtypes: int64(1), object(2)\n",
            "memory usage: 42.7+ KB\n"
          ]
        }
      ]
    },
    {
      "cell_type": "markdown",
      "source": [
        "## summary load & understand data set\n",
        "\n",
        "*   Data berjumlah 1.815\n",
        "*   Terdapat 3 label data\n",
        "*   Label Sentimen sebagai y atau yang akan di prediksi\n",
        "*   Label Tweet sebagai x (variabel)\n",
        "\n",
        "Hal yang perlu menjadi perhatian\n",
        "*   Data yang ada terdapat column yang integer sehingga perlu ditangani atau drop\n",
        "\n"
      ],
      "metadata": {
        "id": "2G5FmMPecNqk"
      }
    },
    {
      "cell_type": "markdown",
      "source": [
        "# Data Inspection"
      ],
      "metadata": {
        "id": "wKF0GPhPY6uG"
      }
    },
    {
      "cell_type": "markdown",
      "source": [
        "## Menangani integer (Unnamed : 0) dengan menghapus kolom"
      ],
      "metadata": {
        "id": "DIKejaQRap6I"
      }
    },
    {
      "cell_type": "code",
      "source": [
        "# karena data terdapat 1 kolom integer ('Unnamed: 0') maka drop kolom integer\n",
        "data.drop('Unnamed: 0', axis=1, inplace=True)\n",
        "data.head()"
      ],
      "metadata": {
        "colab": {
          "base_uri": "https://localhost:8080/",
          "height": 206
        },
        "id": "9ffEqVIJXtzh",
        "outputId": "6da3c364-fd34-4a2c-a3fe-d0d7f68277cd"
      },
      "execution_count": null,
      "outputs": [
        {
          "output_type": "execute_result",
          "data": {
            "text/plain": [
              "  sentimen                     tweet\n",
              "0  negatif  Kata @prabowo Indones...\n",
              "1   netral  Batuan Langka, Tasbih...\n",
              "2   netral  Di era Jokowi, ekonom...\n",
              "3  positif  Bagi Sumatera Selatan...\n",
              "4  negatif  Negara kita ngutang b..."
            ],
            "text/html": [
              "\n",
              "  <div id=\"df-d42c5c13-3add-42c4-8f8e-11428b0e6f9c\" class=\"colab-df-container\">\n",
              "    <div>\n",
              "<style scoped>\n",
              "    .dataframe tbody tr th:only-of-type {\n",
              "        vertical-align: middle;\n",
              "    }\n",
              "\n",
              "    .dataframe tbody tr th {\n",
              "        vertical-align: top;\n",
              "    }\n",
              "\n",
              "    .dataframe thead th {\n",
              "        text-align: right;\n",
              "    }\n",
              "</style>\n",
              "<table border=\"1\" class=\"dataframe\">\n",
              "  <thead>\n",
              "    <tr style=\"text-align: right;\">\n",
              "      <th></th>\n",
              "      <th>sentimen</th>\n",
              "      <th>tweet</th>\n",
              "    </tr>\n",
              "  </thead>\n",
              "  <tbody>\n",
              "    <tr>\n",
              "      <th>0</th>\n",
              "      <td>negatif</td>\n",
              "      <td>Kata @prabowo Indones...</td>\n",
              "    </tr>\n",
              "    <tr>\n",
              "      <th>1</th>\n",
              "      <td>netral</td>\n",
              "      <td>Batuan Langka, Tasbih...</td>\n",
              "    </tr>\n",
              "    <tr>\n",
              "      <th>2</th>\n",
              "      <td>netral</td>\n",
              "      <td>Di era Jokowi, ekonom...</td>\n",
              "    </tr>\n",
              "    <tr>\n",
              "      <th>3</th>\n",
              "      <td>positif</td>\n",
              "      <td>Bagi Sumatera Selatan...</td>\n",
              "    </tr>\n",
              "    <tr>\n",
              "      <th>4</th>\n",
              "      <td>negatif</td>\n",
              "      <td>Negara kita ngutang b...</td>\n",
              "    </tr>\n",
              "  </tbody>\n",
              "</table>\n",
              "</div>\n",
              "    <div class=\"colab-df-buttons\">\n",
              "\n",
              "  <div class=\"colab-df-container\">\n",
              "    <button class=\"colab-df-convert\" onclick=\"convertToInteractive('df-d42c5c13-3add-42c4-8f8e-11428b0e6f9c')\"\n",
              "            title=\"Convert this dataframe to an interactive table.\"\n",
              "            style=\"display:none;\">\n",
              "\n",
              "  <svg xmlns=\"http://www.w3.org/2000/svg\" height=\"24px\" viewBox=\"0 -960 960 960\">\n",
              "    <path d=\"M120-120v-720h720v720H120Zm60-500h600v-160H180v160Zm220 220h160v-160H400v160Zm0 220h160v-160H400v160ZM180-400h160v-160H180v160Zm440 0h160v-160H620v160ZM180-180h160v-160H180v160Zm440 0h160v-160H620v160Z\"/>\n",
              "  </svg>\n",
              "    </button>\n",
              "\n",
              "  <style>\n",
              "    .colab-df-container {\n",
              "      display:flex;\n",
              "      gap: 12px;\n",
              "    }\n",
              "\n",
              "    .colab-df-convert {\n",
              "      background-color: #E8F0FE;\n",
              "      border: none;\n",
              "      border-radius: 50%;\n",
              "      cursor: pointer;\n",
              "      display: none;\n",
              "      fill: #1967D2;\n",
              "      height: 32px;\n",
              "      padding: 0 0 0 0;\n",
              "      width: 32px;\n",
              "    }\n",
              "\n",
              "    .colab-df-convert:hover {\n",
              "      background-color: #E2EBFA;\n",
              "      box-shadow: 0px 1px 2px rgba(60, 64, 67, 0.3), 0px 1px 3px 1px rgba(60, 64, 67, 0.15);\n",
              "      fill: #174EA6;\n",
              "    }\n",
              "\n",
              "    .colab-df-buttons div {\n",
              "      margin-bottom: 4px;\n",
              "    }\n",
              "\n",
              "    [theme=dark] .colab-df-convert {\n",
              "      background-color: #3B4455;\n",
              "      fill: #D2E3FC;\n",
              "    }\n",
              "\n",
              "    [theme=dark] .colab-df-convert:hover {\n",
              "      background-color: #434B5C;\n",
              "      box-shadow: 0px 1px 3px 1px rgba(0, 0, 0, 0.15);\n",
              "      filter: drop-shadow(0px 1px 2px rgba(0, 0, 0, 0.3));\n",
              "      fill: #FFFFFF;\n",
              "    }\n",
              "  </style>\n",
              "\n",
              "    <script>\n",
              "      const buttonEl =\n",
              "        document.querySelector('#df-d42c5c13-3add-42c4-8f8e-11428b0e6f9c button.colab-df-convert');\n",
              "      buttonEl.style.display =\n",
              "        google.colab.kernel.accessAllowed ? 'block' : 'none';\n",
              "\n",
              "      async function convertToInteractive(key) {\n",
              "        const element = document.querySelector('#df-d42c5c13-3add-42c4-8f8e-11428b0e6f9c');\n",
              "        const dataTable =\n",
              "          await google.colab.kernel.invokeFunction('convertToInteractive',\n",
              "                                                    [key], {});\n",
              "        if (!dataTable) return;\n",
              "\n",
              "        const docLinkHtml = 'Like what you see? Visit the ' +\n",
              "          '<a target=\"_blank\" href=https://colab.research.google.com/notebooks/data_table.ipynb>data table notebook</a>'\n",
              "          + ' to learn more about interactive tables.';\n",
              "        element.innerHTML = '';\n",
              "        dataTable['output_type'] = 'display_data';\n",
              "        await google.colab.output.renderOutput(dataTable, element);\n",
              "        const docLink = document.createElement('div');\n",
              "        docLink.innerHTML = docLinkHtml;\n",
              "        element.appendChild(docLink);\n",
              "      }\n",
              "    </script>\n",
              "  </div>\n",
              "\n",
              "\n",
              "<div id=\"df-e43cb178-5387-4737-bb47-6a69086ebd11\">\n",
              "  <button class=\"colab-df-quickchart\" onclick=\"quickchart('df-e43cb178-5387-4737-bb47-6a69086ebd11')\"\n",
              "            title=\"Suggest charts\"\n",
              "            style=\"display:none;\">\n",
              "\n",
              "<svg xmlns=\"http://www.w3.org/2000/svg\" height=\"24px\"viewBox=\"0 0 24 24\"\n",
              "     width=\"24px\">\n",
              "    <g>\n",
              "        <path d=\"M19 3H5c-1.1 0-2 .9-2 2v14c0 1.1.9 2 2 2h14c1.1 0 2-.9 2-2V5c0-1.1-.9-2-2-2zM9 17H7v-7h2v7zm4 0h-2V7h2v10zm4 0h-2v-4h2v4z\"/>\n",
              "    </g>\n",
              "</svg>\n",
              "  </button>\n",
              "\n",
              "<style>\n",
              "  .colab-df-quickchart {\n",
              "      --bg-color: #E8F0FE;\n",
              "      --fill-color: #1967D2;\n",
              "      --hover-bg-color: #E2EBFA;\n",
              "      --hover-fill-color: #174EA6;\n",
              "      --disabled-fill-color: #AAA;\n",
              "      --disabled-bg-color: #DDD;\n",
              "  }\n",
              "\n",
              "  [theme=dark] .colab-df-quickchart {\n",
              "      --bg-color: #3B4455;\n",
              "      --fill-color: #D2E3FC;\n",
              "      --hover-bg-color: #434B5C;\n",
              "      --hover-fill-color: #FFFFFF;\n",
              "      --disabled-bg-color: #3B4455;\n",
              "      --disabled-fill-color: #666;\n",
              "  }\n",
              "\n",
              "  .colab-df-quickchart {\n",
              "    background-color: var(--bg-color);\n",
              "    border: none;\n",
              "    border-radius: 50%;\n",
              "    cursor: pointer;\n",
              "    display: none;\n",
              "    fill: var(--fill-color);\n",
              "    height: 32px;\n",
              "    padding: 0;\n",
              "    width: 32px;\n",
              "  }\n",
              "\n",
              "  .colab-df-quickchart:hover {\n",
              "    background-color: var(--hover-bg-color);\n",
              "    box-shadow: 0 1px 2px rgba(60, 64, 67, 0.3), 0 1px 3px 1px rgba(60, 64, 67, 0.15);\n",
              "    fill: var(--button-hover-fill-color);\n",
              "  }\n",
              "\n",
              "  .colab-df-quickchart-complete:disabled,\n",
              "  .colab-df-quickchart-complete:disabled:hover {\n",
              "    background-color: var(--disabled-bg-color);\n",
              "    fill: var(--disabled-fill-color);\n",
              "    box-shadow: none;\n",
              "  }\n",
              "\n",
              "  .colab-df-spinner {\n",
              "    border: 2px solid var(--fill-color);\n",
              "    border-color: transparent;\n",
              "    border-bottom-color: var(--fill-color);\n",
              "    animation:\n",
              "      spin 1s steps(1) infinite;\n",
              "  }\n",
              "\n",
              "  @keyframes spin {\n",
              "    0% {\n",
              "      border-color: transparent;\n",
              "      border-bottom-color: var(--fill-color);\n",
              "      border-left-color: var(--fill-color);\n",
              "    }\n",
              "    20% {\n",
              "      border-color: transparent;\n",
              "      border-left-color: var(--fill-color);\n",
              "      border-top-color: var(--fill-color);\n",
              "    }\n",
              "    30% {\n",
              "      border-color: transparent;\n",
              "      border-left-color: var(--fill-color);\n",
              "      border-top-color: var(--fill-color);\n",
              "      border-right-color: var(--fill-color);\n",
              "    }\n",
              "    40% {\n",
              "      border-color: transparent;\n",
              "      border-right-color: var(--fill-color);\n",
              "      border-top-color: var(--fill-color);\n",
              "    }\n",
              "    60% {\n",
              "      border-color: transparent;\n",
              "      border-right-color: var(--fill-color);\n",
              "    }\n",
              "    80% {\n",
              "      border-color: transparent;\n",
              "      border-right-color: var(--fill-color);\n",
              "      border-bottom-color: var(--fill-color);\n",
              "    }\n",
              "    90% {\n",
              "      border-color: transparent;\n",
              "      border-bottom-color: var(--fill-color);\n",
              "    }\n",
              "  }\n",
              "</style>\n",
              "\n",
              "  <script>\n",
              "    async function quickchart(key) {\n",
              "      const quickchartButtonEl =\n",
              "        document.querySelector('#' + key + ' button');\n",
              "      quickchartButtonEl.disabled = true;  // To prevent multiple clicks.\n",
              "      quickchartButtonEl.classList.add('colab-df-spinner');\n",
              "      try {\n",
              "        const charts = await google.colab.kernel.invokeFunction(\n",
              "            'suggestCharts', [key], {});\n",
              "      } catch (error) {\n",
              "        console.error('Error during call to suggestCharts:', error);\n",
              "      }\n",
              "      quickchartButtonEl.classList.remove('colab-df-spinner');\n",
              "      quickchartButtonEl.classList.add('colab-df-quickchart-complete');\n",
              "    }\n",
              "    (() => {\n",
              "      let quickchartButtonEl =\n",
              "        document.querySelector('#df-e43cb178-5387-4737-bb47-6a69086ebd11 button');\n",
              "      quickchartButtonEl.style.display =\n",
              "        google.colab.kernel.accessAllowed ? 'block' : 'none';\n",
              "    })();\n",
              "  </script>\n",
              "</div>\n",
              "    </div>\n",
              "  </div>\n"
            ],
            "application/vnd.google.colaboratory.intrinsic+json": {
              "type": "dataframe",
              "variable_name": "data",
              "summary": "{\n  \"name\": \"data\",\n  \"rows\": 1815,\n  \"fields\": [\n    {\n      \"column\": \"sentimen\",\n      \"properties\": {\n        \"dtype\": \"category\",\n        \"num_unique_values\": 3,\n        \"samples\": [\n          \"negatif\",\n          \"netral\",\n          \"positif\"\n        ],\n        \"semantic_type\": \"\",\n        \"description\": \"\"\n      }\n    },\n    {\n      \"column\": \"tweet\",\n      \"properties\": {\n        \"dtype\": \"string\",\n        \"num_unique_values\": 1815,\n        \"samples\": [\n          \"Bukan hanya kurang milenial, tapi memang dia sama sekali ga paham potensi bisnis di dunia digitalisasi. Apalagi jika itu tentang ekonomi kreatif dan era industri 4.0 apa yang dia tahu? Nothing! Sementara, saat ini pemerintahan jokowi sudah menyiapkan infrastruktur ke arah sana.\",\n          \"artinya presiden yg ke 6 tdk menerima gaji.prabowo sandi akan dilimpahkan ke yatim piatu dan dhuafa subhanallah\",\n          \"Kalau menurut saya  bang @sandiuno  dan bapak @prabowo   mampu menempatkan di mana tugasnya  Karna saya bangga pak prabowo memberikan kesempatan untuk yang ahlinya Penjaga kedaulatan Dan  Pengelola perekonomian  Aman adil .dan makmur . Sehat selalu tugas berat di pundak bapak br2\"\n        ],\n        \"semantic_type\": \"\",\n        \"description\": \"\"\n      }\n    }\n  ]\n}"
            }
          },
          "metadata": {},
          "execution_count": 28
        }
      ]
    },
    {
      "cell_type": "markdown",
      "source": [
        "## mengecek nilai null pada data"
      ],
      "metadata": {
        "id": "q7T7HDcVa6OB"
      }
    },
    {
      "cell_type": "code",
      "source": [
        "# check nilai null\n",
        "data.isna().sum()/len(data)"
      ],
      "metadata": {
        "colab": {
          "base_uri": "https://localhost:8080/"
        },
        "id": "BHbEdLGZZhWZ",
        "outputId": "dd1051d9-f3ec-499e-c1ff-0563fda54dfe"
      },
      "execution_count": null,
      "outputs": [
        {
          "output_type": "execute_result",
          "data": {
            "text/plain": [
              "sentimen    0.0\n",
              "tweet       0.0\n",
              "dtype: float64"
            ]
          },
          "metadata": {},
          "execution_count": 29
        }
      ]
    },
    {
      "cell_type": "markdown",
      "source": [
        "## mengecek proporsi data pada setiap label"
      ],
      "metadata": {
        "id": "LKDSv9TTbHyb"
      }
    },
    {
      "cell_type": "code",
      "source": [
        "# Cek proporsi label pada data\n",
        "plt.figure(figsize=(8, 6), dpi=100)\n",
        "ax = sns.countplot(data=data, x='sentimen', hue='sentimen')\n",
        "total = float(len(data))  # total number of data points\n",
        "\n",
        "for p in ax.patches:\n",
        "    height = p.get_height()\n",
        "    ax.annotate(f'{height/total:.1%}', (p.get_x() + p.get_width() / 2., height), ha='center', va='center', xytext=(0, 10), textcoords='offset points')\n",
        "\n",
        "plt.show()"
      ],
      "metadata": {
        "colab": {
          "base_uri": "https://localhost:8080/",
          "height": 551
        },
        "id": "U8joO6fFZhTC",
        "outputId": "302050b6-fb07-491b-afb9-46341e95c785"
      },
      "execution_count": null,
      "outputs": [
        {
          "output_type": "display_data",
          "data": {
            "text/plain": [
              "<Figure size 800x600 with 1 Axes>"
            ],
            "image/png": "[encoded data removed]"
          },
          "metadata": {}
        }
      ]
    },
    {
      "cell_type": "markdown",
      "source": [
        "## Summary Data Inspection\n",
        "*   Data yang ada tidak ada Null\n",
        "*   Data proposional pada setiap labelnya\n",
        "\n",
        "data yang ada cukup proposional atau seimbang sehingga tidak diperlukan langkah oversampling atau undersampling untuk menghindari bias dan overfitting"
      ],
      "metadata": {
        "id": "SeRRaj1vbgzn"
      }
    },
    {
      "cell_type": "code",
      "source": [
        "# cek duplikasi data\n",
        "print('Number of rows before duplicates data dropped: ', len(data))\n",
        "print('Number of rows after duplicates data dropped: ',len(data.drop_duplicates()))\n",
        "print('Number of duplicated rows: ' , len(data) - len(data.drop_duplicates()))"
      ],
      "metadata": {
        "colab": {
          "base_uri": "https://localhost:8080/"
        },
        "id": "K7mgd8wcchZv",
        "outputId": "c2e75117-2f55-43b3-8c6c-eeae3baa3b53"
      },
      "execution_count": null,
      "outputs": [
        {
          "output_type": "stream",
          "name": "stdout",
          "text": [
            "Number of rows before duplicates data dropped:  1815\n",
            "Number of rows after duplicates data dropped:  1815\n",
            "Number of duplicated rows:  0\n"
          ]
        }
      ]
    },
    {
      "cell_type": "markdown",
      "source": [
        "tidak ada data duplication pada data set"
      ],
      "metadata": {
        "id": "UtvSmaffcuas"
      }
    },
    {
      "cell_type": "markdown",
      "source": [
        "# Data Preprocessing"
      ],
      "metadata": {
        "id": "dIORsOp6gvBC"
      }
    },
    {
      "cell_type": "code",
      "source": [
        "# mempersiapkan tampilan untuk hasil data preproses\n",
        "def random_tweet(before, after, low=0, high=10, length=len(data)):\n",
        "  for i in np.random.randint(low, length, high):\n",
        "    print(\"------------\"*100)\n",
        "    print(f'index {i}')\n",
        "    print('before: ', before.loc[i])\n",
        "    print('after: ', after.loc[i])"
      ],
      "metadata": {
        "id": "GmTQ4KQohti1"
      },
      "execution_count": null,
      "outputs": []
    },
    {
      "cell_type": "markdown",
      "source": [],
      "metadata": {
        "id": "PKAuRkx9b_Jb"
      }
    },
    {
      "cell_type": "markdown",
      "source": [
        "## Melakukan data preprocessing (EDA) sebelum dilakukan train\n",
        "\n",
        "Proses yang dilakukan\n",
        "\n",
        "*   Merubah tweet menjadi huruf kecil\n",
        "*   Merubah emoticon / emoji menjadi kata yang bermakna\n",
        "*   Menghapus tanda baca & karakter khusus\n",
        "*   Menghapus #, username , @, dan URL\n",
        "*   Mengganti angka 01 dan 02 menjadi kata paslon masing masing, dan menghapus angka selain 01 dan 02\n",
        "*   Menghapus stopwords\n",
        "\n",
        "\n",
        "\n",
        "\n",
        "\n"
      ],
      "metadata": {
        "id": "NA5VDzavcBOp"
      }
    },
    {
      "cell_type": "code",
      "source": [
        "# Mempersiapkan kolom 'tweet_asli' agar bisa ditampilkan perbandingan\n",
        "data['tweet_asli'] = data['tweet'].copy()\n",
        "\n",
        "# Mengubah semua teks menjadi huruf kecil\n",
        "data['tweet'] = data['tweet'].str.lower()\n",
        "\n",
        "# Membuat dictionary untuk emoticon dan kata bermakna\n",
        "emoticon_dict = {\n",
        "    ':)': 'senang',\n",
        "    ':(': 'sedih',\n",
        "    ':D': 'tertawa',\n",
        "    ':P': 'menjulurkan lidah',\n",
        "    ':O': 'terkejut',\n",
        "    ':|': 'bingung',}\n",
        "\n",
        "# Mengubah kata emoticon pada kolom tweet menjadi kata bermakna\n",
        "for i in range(len(data)):\n",
        "    for emoticon, meaning in emoticon_dict.items():\n",
        "      data.at[i, 'tweet'] = data.at[i, 'tweet'].replace(emoticon, meaning)\n",
        "\n",
        "# Mengubah kata emoji pada kolom tweet menjadi kata bermakna bahasa Indonesia\n",
        "data['tweet'] = data['tweet'].apply(lambda x: emoji.demojize(x))\n",
        "\n",
        "# Menghapus tanda baca dan karakter spesial\n",
        "data['tweet'] = data['tweet'].str.replace('[^\\w\\s]', '', regex=True)\n",
        "\n",
        "# Menghapus hashtag\n",
        "data['tweet'] = data['tweet'].str.replace('#\\w+', '', regex=True)\n",
        "\n",
        "# Menghapus username dan @\n",
        "data['tweet'] = data['tweet'].str.replace('@\\w+', '', regex=True)\n",
        "\n",
        "# Menghapus URL\n",
        "data['tweet'] = data['tweet'].str.replace('https?://\\S+|www.\\S+','', regex=True)\n",
        "data['tweet'] = data['tweet'].str.split().str.join(' ')\n",
        "\n",
        "# Mengubah kolom tweet dengan angka 01 dan 02 menjadi text\n",
        "data['tweet'] = data['tweet'].replace('01', 'Prabowo-Sandi')\n",
        "data['tweet'] = data['tweet'].replace('02', 'Jokowi-Ma\\'ruf')\n",
        "data['tweet'] = data['tweet'].str.replace('_', '', regex=False)\n",
        "\n",
        "# Menghapus angka\n",
        "data['tweet'] = data['tweet'].str.replace('\\d+', '')\n",
        "\n",
        "# Menghapus kata-kata yang tidak penting (stopwords)\n",
        "stop_words = set(stopwords.words('indonesian'))\n",
        "data['tweet'] = data['tweet'].str.split().str.join(' ')\n",
        "data['tweet'] = data['tweet'].str.split().apply(lambda x: ' '.join([word for word in x if word not in stop_words]))\n",
        "\n",
        "\n"
      ],
      "metadata": {
        "id": "I9yK87VCpG3c",
        "colab": {
          "base_uri": "https://localhost:8080/"
        },
        "outputId": "f383a0ba-538d-40dd-9ffc-7d22c98418e8"
      },
      "execution_count": null,
      "outputs": [
        {
          "output_type": "stream",
          "name": "stderr",
          "text": [
            "<ipython-input-33-00e03fc2cc2b>:43: FutureWarning: The default value of regex will change from True to False in a future version.\n",
            "  data['tweet'] = data['tweet'].str.replace('\\d+', '')\n"
          ]
        }
      ]
    },
    {
      "cell_type": "markdown",
      "source": [
        "## Text Normalization"
      ],
      "metadata": {
        "id": "ub6CVLmIhF4C"
      }
    },
    {
      "cell_type": "code",
      "source": [
        "#import nltk\n",
        "#nltk.download('wordnet')\n",
        "#from nltk.stem import WordNetLemmatizer\n",
        "\n",
        "# Create a WordNetLemmatizer object\n",
        "#lemmatizer = WordNetLemmatizer()\n",
        "\n",
        "# Function to lemmatize tweets\n",
        "#def lemmatize_tweet(text):\n",
        "#  \"\"\"Lemmatizes the words in a tweet.\"\"\"\n",
        "#  lemmatized_words = []\n",
        "#  for word in text.split():\n",
        "#    lemmatized_words.append(lemmatizer.lemmatize(word))\n",
        "#  return ' '.join(lemmatized_words)\n",
        "\n",
        "# Apply lemmatization to the 'tweet' column\n",
        "#data['tweet'] = data['tweet'].apply(lemmatize_tweet)\n",
        "\n",
        "#Apply lemmatization to the 'tweet' column\n",
        "#data['lemmatized_tweet'] = data['tweet'].apply(lemmatize_tweet)\n",
        "\n",
        "# Calculate the frequency of lemmatized words\n",
        "#word_counts = data['lemmatized_tweet'].str.split().explode().value_counts()\n",
        "\n",
        "#print(word_counts.head())"
      ],
      "metadata": {
        "id": "ft5giflLuM-u"
      },
      "execution_count": null,
      "outputs": []
    },
    {
      "cell_type": "code",
      "source": [
        "# Stemming tweet\n",
        "ps = PorterStemmer()\n",
        "data['tweet'] = data['tweet'].str.split().apply(lambda x: ' '.join([ps.stem(word) for word in x]))\n",
        "\n",
        "# Menampilkan data perbandingan tweet sebelum dan sesudah preprocess & stemm\n",
        "random_tweet(data['tweet_asli'], data['tweet'])"
      ],
      "metadata": {
        "colab": {
          "base_uri": "https://localhost:8080/"
        },
        "id": "culgvc-ng85O",
        "outputId": "c33f337c-a266-4d21-d641-56009555a7f4"
      },
      "execution_count": null,
      "outputs": [
        {
          "output_type": "stream",
          "name": "stdout",
          "text": [
            "------------------------------------------------------------------------------------------------------------------------------------------------------------------------------------------------------------------------------------------------------------------------------------------------------------------------------------------------------------------------------------------------------------------------------------------------------------------------------------------------------------------------------------------------------------------------------------------------------------------------------------------------------------------------------------------------------------------------------------------------------------------------------------------------------------------------------------------------------------------------------------------------------------------------------------------------------------------------------------------------------------------------------------------------------------------------------------------------------------------------------------------------------------------------------------------------------------------------------------------------\n",
            "index 213\n",
            "before:  Maaf mas saya gk pake yg subsidi,saya pake yg12kgðŸ˜‚soal harga udah tertera di nomor reg.nya dan wajib di tempel kan di dinding toko biar masyarakat tau,mangkanya saya tanya ke abg saya knp harganya brubah,katanya di ubah pk jokowi,subsidinya di alihkan\n",
            "after:  maaf ma gk pake yg subsidisaya pake ygkgðÿsoal harga udah tertera nomor regnya wajib tempel dind toko biar masyarakat taumangkanya abg knp harganya brubahkatanya ubah pk jokowisubsidinya alihkan\n",
            "------------------------------------------------------------------------------------------------------------------------------------------------------------------------------------------------------------------------------------------------------------------------------------------------------------------------------------------------------------------------------------------------------------------------------------------------------------------------------------------------------------------------------------------------------------------------------------------------------------------------------------------------------------------------------------------------------------------------------------------------------------------------------------------------------------------------------------------------------------------------------------------------------------------------------------------------------------------------------------------------------------------------------------------------------------------------------------------------------------------------------------------------------------------------------------------------------------------------------------------------\n",
            "index 1308\n",
            "before:  itu tol sepi boss..dan yg lewat tol itu siapa bos.ya jelas yg memiliki mobil pribadi.kalau tidak punya mobil pribadi mau lewat tol pakai apa bos.ekonomi masyarakat dulu di perbaiki bos.baru infrastruktur.\n",
            "after:  tol sepi bossdan yg tol bosya yg memiliki mobil pribadikalau mobil pribadi tol pakai bosekonomi masyarakat perbaiki bosbaru infrastruktur\n",
            "------------------------------------------------------------------------------------------------------------------------------------------------------------------------------------------------------------------------------------------------------------------------------------------------------------------------------------------------------------------------------------------------------------------------------------------------------------------------------------------------------------------------------------------------------------------------------------------------------------------------------------------------------------------------------------------------------------------------------------------------------------------------------------------------------------------------------------------------------------------------------------------------------------------------------------------------------------------------------------------------------------------------------------------------------------------------------------------------------------------------------------------------------------------------------------------------------------------------------------------------\n",
            "index 143\n",
            "before:  Fyi gaes...Jokowi bangunkan SPBU pertama setelag 71 tahun di Kabupaten Puncak Jaya Papua dengan harga yang semula 50ribu/liter, menjadi 6500/liter.Â  http://beritahati.com/berita/38106/Warga-Puncak-Papua-Era-Jokowi-harga-BBM-di-Papua-sama-dengan-pulau-JawaÂ â€¦Â #PilihOrangBaik #PilihJelasIslamnya #PilihBajuPutih\n",
            "after:  fyi gaesjokowi bangunkan spbu setelag kabupaten puncak jaya papua harga ribulit literâ httpberitahaticomberitawargapuncakpapuaerajokowihargabbmdipapuasamadenganpulaujawaâ ââ pilihorangbaik pilihjelasislamnya pilihbajuputih\n",
            "------------------------------------------------------------------------------------------------------------------------------------------------------------------------------------------------------------------------------------------------------------------------------------------------------------------------------------------------------------------------------------------------------------------------------------------------------------------------------------------------------------------------------------------------------------------------------------------------------------------------------------------------------------------------------------------------------------------------------------------------------------------------------------------------------------------------------------------------------------------------------------------------------------------------------------------------------------------------------------------------------------------------------------------------------------------------------------------------------------------------------------------------------------------------------------------------------------------------------------------------\n",
            "index 535\n",
            "before:  Pak Jokowi terlihat tidak paham soal ekonomi makro dan mikro romlah. ðŸ˜‚ðŸ˜‚ðŸ˜‚\n",
            "after:  jokowi paham ekonomi makro mikro romlah ðÿðÿðÿ\n",
            "------------------------------------------------------------------------------------------------------------------------------------------------------------------------------------------------------------------------------------------------------------------------------------------------------------------------------------------------------------------------------------------------------------------------------------------------------------------------------------------------------------------------------------------------------------------------------------------------------------------------------------------------------------------------------------------------------------------------------------------------------------------------------------------------------------------------------------------------------------------------------------------------------------------------------------------------------------------------------------------------------------------------------------------------------------------------------------------------------------------------------------------------------------------------------------------------------------------------------------------------\n",
            "index 1042\n",
            "before:  Namanya aja wowo  menuding SBY dibalik semua kesalahan ekonomi Indonesia  https://bit.ly/2Kx8krrÂ  @jokowi @95_teguh #PrabowoSalahkanSBY Jangan di dengerlah si wowo itu\n",
            "after:  namanya aja wowo menud sbi dibalik kesalahan ekonomi indonesia httpsbitlykxkrrâ jokowi teguh prabowosalahkansbi dengerlah si wowo\n",
            "------------------------------------------------------------------------------------------------------------------------------------------------------------------------------------------------------------------------------------------------------------------------------------------------------------------------------------------------------------------------------------------------------------------------------------------------------------------------------------------------------------------------------------------------------------------------------------------------------------------------------------------------------------------------------------------------------------------------------------------------------------------------------------------------------------------------------------------------------------------------------------------------------------------------------------------------------------------------------------------------------------------------------------------------------------------------------------------------------------------------------------------------------------------------------------------------------------------------------------------------\n",
            "index 1351\n",
            "before:  Saya mendengar keluh kesah Bapak Supardi di Cilebut, beliau mengeluhkan harga tiket JKT48 yg mahal. Namun itu bukan salah Pak Jokowi, itu salah presiden-presiden sebelumnya.\n",
            "after:  mendengar keluh kesah supardi cilebut beliau mengeluhkan harga tiket jkt yg mahal salah jokowi salah presidenpresiden\n",
            "------------------------------------------------------------------------------------------------------------------------------------------------------------------------------------------------------------------------------------------------------------------------------------------------------------------------------------------------------------------------------------------------------------------------------------------------------------------------------------------------------------------------------------------------------------------------------------------------------------------------------------------------------------------------------------------------------------------------------------------------------------------------------------------------------------------------------------------------------------------------------------------------------------------------------------------------------------------------------------------------------------------------------------------------------------------------------------------------------------------------------------------------------------------------------------------------------------------------------------------------\n",
            "index 890\n",
            "before:  Dr ini aja kita\" dah bisa ambil kesimpulan klo ulama\" jg ustad\" y itu berbayar dn mulut y disogok smua. Cuma @prabowo jg hrus dong byr gaji\" karyawan y,jgn hny krn ingin jd RI 1 suap orang sana sini, smntara bkas karyawan y kelaparan dgn anak istri y. Tul g @Fahrihamzah @fadlizon\n",
            "after:  dr aja dah ambil kesimpulan klo ulama jg ustad y berbayar dn mulut y disogok smua prabowo jg hru byr gaji karyawan yjgn hni krn jd ri suap orang smntara bka karyawan y kelaparan dgn anak istri y tul g fahrihamzah fadlizon\n",
            "------------------------------------------------------------------------------------------------------------------------------------------------------------------------------------------------------------------------------------------------------------------------------------------------------------------------------------------------------------------------------------------------------------------------------------------------------------------------------------------------------------------------------------------------------------------------------------------------------------------------------------------------------------------------------------------------------------------------------------------------------------------------------------------------------------------------------------------------------------------------------------------------------------------------------------------------------------------------------------------------------------------------------------------------------------------------------------------------------------------------------------------------------------------------------------------------------------------------------------------------\n",
            "index 689\n",
            "before:  Klo udah gagal naekin ekonomi bilang aja gagal & minta maaf jangan alesan ngalor ngidul, contoh dong prabowo klo salah & bikin gaduh dia minta maaf, apa susahnya nyebut 13 huruf SAYA MINTA MAAF, ekonomi 5 % jauh dibawah zaman SBY 7%, #UASdifitnahKejiDanBrutal\n",
            "after:  klo udah gagal naekin ekonomi bilang aja gagal maaf alesan ngalor ngidul contoh prabowo klo salah bikin gaduh maaf susahnya nyebut huruf maaf ekonomi dibawah zaman sbi uasdifitnahkejidanbrut\n",
            "------------------------------------------------------------------------------------------------------------------------------------------------------------------------------------------------------------------------------------------------------------------------------------------------------------------------------------------------------------------------------------------------------------------------------------------------------------------------------------------------------------------------------------------------------------------------------------------------------------------------------------------------------------------------------------------------------------------------------------------------------------------------------------------------------------------------------------------------------------------------------------------------------------------------------------------------------------------------------------------------------------------------------------------------------------------------------------------------------------------------------------------------------------------------------------------------------------------------------------------------\n",
            "index 1034\n",
            "before:  santun kalo pertumbuhan ekonomi 5% buat apa ?\n",
            "after:  santun kalo pertumbuhan ekonomi\n",
            "------------------------------------------------------------------------------------------------------------------------------------------------------------------------------------------------------------------------------------------------------------------------------------------------------------------------------------------------------------------------------------------------------------------------------------------------------------------------------------------------------------------------------------------------------------------------------------------------------------------------------------------------------------------------------------------------------------------------------------------------------------------------------------------------------------------------------------------------------------------------------------------------------------------------------------------------------------------------------------------------------------------------------------------------------------------------------------------------------------------------------------------------------------------------------------------------------------------------------------------------\n",
            "index 558\n",
            "before:  Bagi Jokowi, rakyat indonesia sudah makmur, ekonomi naik 5% itu suatu prestasi luar biasa alias meroket Tapi yg bikin saya bingung kenapa mesti keluar kartu kartu lagi ðŸ˜‚ðŸ˜‚ðŸ˜‚\n",
            "after:  jokowi rakyat indonesia makmur ekonomi prestasi alia meroket yg bikin bingung mesti kartu kartu ðÿðÿðÿ\n"
          ]
        }
      ]
    },
    {
      "cell_type": "markdown",
      "source": [
        "## Summary Text Processing & Text Normalization\n",
        "\n",
        "*   Semua data terjadi perubahan dari text preprocessing\n",
        "*   Meskipun telah dicoba dengan Lematisasi dan Stemming, Stemming menjadi pilihan dengan beberapa alasan pada pilpress banyak sekali kata yang mungkin masih belum terkoreksi dengan baik\n",
        "> stemming dapat membantu normalisasi kata yang belum terkoreksi pada text preprocessing\n",
        "> Stemming baik untuk analisis frekuensi kata, kategorisasi teks kasar, dan identifikasi topik umum.\n",
        "> Keterbatasan hardware juga pemilihan stemming\n",
        "\n"
      ],
      "metadata": {
        "id": "joVVed25jP_j"
      }
    },
    {
      "cell_type": "markdown",
      "source": [
        "# Classical Model (Random Forest Classifier)"
      ],
      "metadata": {
        "id": "UHaBWlv8UGVR"
      }
    },
    {
      "cell_type": "markdown",
      "source": [
        "## Membagi data (Data Split)"
      ],
      "metadata": {
        "id": "x-Xej8WyIL5j"
      }
    },
    {
      "cell_type": "code",
      "execution_count": null,
      "metadata": {
        "id": "Bi4Gz6qRNAbs"
      },
      "outputs": [],
      "source": [
        "# Data Split\n",
        "X_train, X_test, y_train, y_test = train_test_split(data['tweet'], data['sentimen'], test_size=0.2, random_state=42)\n"
      ]
    },
    {
      "cell_type": "markdown",
      "source": [
        "## Vektorisasi Data tweet"
      ],
      "metadata": {
        "id": "F8NbFf64IRQd"
      }
    },
    {
      "cell_type": "code",
      "execution_count": null,
      "metadata": {
        "id": "xeRTnx_1NBQi"
      },
      "outputs": [],
      "source": [
        "# Vectorize\n",
        "stop_words = list(stopwords.words('indonesian'))  # Convert set to list\n",
        "vectorizer = TfidfVectorizer(stop_words='english')\n",
        "X_train = vectorizer.fit_transform(X_train)\n",
        "X_test = vectorizer.transform(X_test)\n"
      ]
    },
    {
      "cell_type": "markdown",
      "source": [
        "## Model & Train Model"
      ],
      "metadata": {
        "id": "oxEckKpqIeLn"
      }
    },
    {
      "cell_type": "code",
      "execution_count": null,
      "metadata": {
        "colab": {
          "base_uri": "https://localhost:8080/",
          "height": 75
        },
        "id": "gmgoyn8QNE0G",
        "outputId": "d6720fd3-76be-4db2-d9b6-b854a7400489"
      },
      "outputs": [
        {
          "output_type": "execute_result",
          "data": {
            "text/plain": [
              "RandomForestClassifier()"
            ],
            "text/html": [
              "<style>#sk-container-id-2 {color: black;background-color: white;}#sk-container-id-2 pre{padding: 0;}#sk-container-id-2 div.sk-toggleable {background-color: white;}#sk-container-id-2 label.sk-toggleable__label {cursor: pointer;display: block;width: 100%;margin-bottom: 0;padding: 0.3em;box-sizing: border-box;text-align: center;}#sk-container-id-2 label.sk-toggleable__label-arrow:before {content: \"▸\";float: left;margin-right: 0.25em;color: #696969;}#sk-container-id-2 label.sk-toggleable__label-arrow:hover:before {color: black;}#sk-container-id-2 div.sk-estimator:hover label.sk-toggleable__label-arrow:before {color: black;}#sk-container-id-2 div.sk-toggleable__content {max-height: 0;max-width: 0;overflow: hidden;text-align: left;background-color: #f0f8ff;}#sk-container-id-2 div.sk-toggleable__content pre {margin: 0.2em;color: black;border-radius: 0.25em;background-color: #f0f8ff;}#sk-container-id-2 input.sk-toggleable__control:checked~div.sk-toggleable__content {max-height: 200px;max-width: 100%;overflow: auto;}#sk-container-id-2 input.sk-toggleable__control:checked~label.sk-toggleable__label-arrow:before {content: \"▾\";}#sk-container-id-2 div.sk-estimator input.sk-toggleable__control:checked~label.sk-toggleable__label {background-color: #d4ebff;}#sk-container-id-2 div.sk-label input.sk-toggleable__control:checked~label.sk-toggleable__label {background-color: #d4ebff;}#sk-container-id-2 input.sk-hidden--visually {border: 0;clip: rect(1px 1px 1px 1px);clip: rect(1px, 1px, 1px, 1px);height: 1px;margin: -1px;overflow: hidden;padding: 0;position: absolute;width: 1px;}#sk-container-id-2 div.sk-estimator {font-family: monospace;background-color: #f0f8ff;border: 1px dotted black;border-radius: 0.25em;box-sizing: border-box;margin-bottom: 0.5em;}#sk-container-id-2 div.sk-estimator:hover {background-color: #d4ebff;}#sk-container-id-2 div.sk-parallel-item::after {content: \"\";width: 100%;border-bottom: 1px solid gray;flex-grow: 1;}#sk-container-id-2 div.sk-label:hover label.sk-toggleable__label {background-color: #d4ebff;}#sk-container-id-2 div.sk-serial::before {content: \"\";position: absolute;border-left: 1px solid gray;box-sizing: border-box;top: 0;bottom: 0;left: 50%;z-index: 0;}#sk-container-id-2 div.sk-serial {display: flex;flex-direction: column;align-items: center;background-color: white;padding-right: 0.2em;padding-left: 0.2em;position: relative;}#sk-container-id-2 div.sk-item {position: relative;z-index: 1;}#sk-container-id-2 div.sk-parallel {display: flex;align-items: stretch;justify-content: center;background-color: white;position: relative;}#sk-container-id-2 div.sk-item::before, #sk-container-id-2 div.sk-parallel-item::before {content: \"\";position: absolute;border-left: 1px solid gray;box-sizing: border-box;top: 0;bottom: 0;left: 50%;z-index: -1;}#sk-container-id-2 div.sk-parallel-item {display: flex;flex-direction: column;z-index: 1;position: relative;background-color: white;}#sk-container-id-2 div.sk-parallel-item:first-child::after {align-self: flex-end;width: 50%;}#sk-container-id-2 div.sk-parallel-item:last-child::after {align-self: flex-start;width: 50%;}#sk-container-id-2 div.sk-parallel-item:only-child::after {width: 0;}#sk-container-id-2 div.sk-dashed-wrapped {border: 1px dashed gray;margin: 0 0.4em 0.5em 0.4em;box-sizing: border-box;padding-bottom: 0.4em;background-color: white;}#sk-container-id-2 div.sk-label label {font-family: monospace;font-weight: bold;display: inline-block;line-height: 1.2em;}#sk-container-id-2 div.sk-label-container {text-align: center;}#sk-container-id-2 div.sk-container {/* jupyter's `normalize.less` sets `[hidden] { display: none; }` but bootstrap.min.css set `[hidden] { display: none !important; }` so we also need the `!important` here to be able to override the default hidden behavior on the sphinx rendered scikit-learn.org. See: https://github.com/scikit-learn/scikit-learn/issues/21755 */display: inline-block !important;position: relative;}#sk-container-id-2 div.sk-text-repr-fallback {display: none;}</style><div id=\"sk-container-id-2\" class=\"sk-top-container\"><div class=\"sk-text-repr-fallback\"><pre>RandomForestClassifier()</pre><b>In a Jupyter environment, please rerun this cell to show the HTML representation or trust the notebook. <br />On GitHub, the HTML representation is unable to render, please try loading this page with nbviewer.org.</b></div><div class=\"sk-container\" hidden><div class=\"sk-item\"><div class=\"sk-estimator sk-toggleable\"><input class=\"sk-toggleable__control sk-hidden--visually\" id=\"sk-estimator-id-2\" type=\"checkbox\" checked><label for=\"sk-estimator-id-2\" class=\"sk-toggleable__label sk-toggleable__label-arrow\">RandomForestClassifier</label><div class=\"sk-toggleable__content\"><pre>RandomForestClassifier()</pre></div></div></div></div></div>"
            ]
          },
          "metadata": {},
          "execution_count": 38
        }
      ],
      "source": [
        "# Proses Train Model Random Forest Classifier\n",
        "model = RandomForestClassifier(n_estimators=100)\n",
        "model.fit(X_train, y_train)\n"
      ]
    },
    {
      "cell_type": "markdown",
      "source": [
        "## Menampilkan hasil (precision, recall, f1-score)"
      ],
      "metadata": {
        "id": "vMocYi5cIp6G"
      }
    },
    {
      "cell_type": "code",
      "execution_count": null,
      "metadata": {
        "colab": {
          "base_uri": "https://localhost:8080/"
        },
        "id": "OE6ULPupNIdp",
        "outputId": "7b733d75-3b57-4a9d-b0a6-dbd5a39a84cf"
      },
      "outputs": [
        {
          "output_type": "stream",
          "name": "stdout",
          "text": [
            "Accuracytest: 0.5785123966942148\n",
            "              precision    recall  f1-score   support\n",
            "\n",
            "     negatif       0.58      0.63      0.60       115\n",
            "      netral       0.53      0.67      0.59       118\n",
            "     positif       0.66      0.45      0.54       130\n",
            "\n",
            "    accuracy                           0.58       363\n",
            "   macro avg       0.59      0.58      0.58       363\n",
            "weighted avg       0.59      0.58      0.58       363\n",
            "\n"
          ]
        }
      ],
      "source": [
        "# Menampilkan hasil X_Test\n",
        "y_pred = model.predict(X_test)\n",
        "accuracytest = accuracy_score(y_test, y_pred)\n",
        "print('Accuracytest:', accuracytest)\n",
        "print(classification_report(y_test, y_pred))\n"
      ]
    },
    {
      "cell_type": "code",
      "execution_count": null,
      "metadata": {
        "colab": {
          "base_uri": "https://localhost:8080/"
        },
        "id": "Or-OyS6-az7O",
        "outputId": "3609b4b4-cec9-4fe5-cb9e-2d2639b46c4e"
      },
      "outputs": [
        {
          "output_type": "stream",
          "name": "stdout",
          "text": [
            "Accuracytrain: 0.9979338842975206\n",
            "              precision    recall  f1-score   support\n",
            "\n",
            "     negatif       1.00      1.00      1.00       481\n",
            "      netral       1.00      1.00      1.00       489\n",
            "     positif       1.00      1.00      1.00       482\n",
            "\n",
            "    accuracy                           1.00      1452\n",
            "   macro avg       1.00      1.00      1.00      1452\n",
            "weighted avg       1.00      1.00      1.00      1452\n",
            "\n"
          ]
        }
      ],
      "source": [
        "# Menampilkan hasil X_train\n",
        "y_pred = model.predict(X_train)\n",
        "accuracytrain = accuracy_score(y_train, y_pred)\n",
        "print('Accuracytrain:', accuracytrain)\n",
        "print(classification_report(y_train, y_pred))"
      ]
    },
    {
      "cell_type": "markdown",
      "source": [
        "## Hasil Confusion Matriks"
      ],
      "metadata": {
        "id": "IDJi4Nw-I_3T"
      }
    },
    {
      "cell_type": "code",
      "source": [
        "# Menampilkan Confusion Matriks model Random Classifier\n",
        "from sklearn.metrics import confusion_matrix\n",
        "y_pred = model.predict(X_test)\n",
        "# Calculate the confusion matrix\n",
        "confusion_matrix = confusion_matrix(y_test, y_pred)\n",
        "\n",
        "# Print the confusion matrix in a user-friendly format (optional)\n",
        "print(\"Confusion Matrix:\")\n",
        "print(pd.DataFrame(confusion_matrix, columns=y_test.unique(), index=y_test.unique()))"
      ],
      "metadata": {
        "colab": {
          "base_uri": "https://localhost:8080/"
        },
        "id": "31h-gwp1CAuV",
        "outputId": "6774557f-0142-4e54-c3e0-de0460ec00ec"
      },
      "execution_count": null,
      "outputs": [
        {
          "output_type": "stream",
          "name": "stdout",
          "text": [
            "Confusion Matrix:\n",
            "         negatif  positif  netral\n",
            "negatif       72       31      12\n",
            "positif       21       79      18\n",
            "netral        31       40      59\n"
          ]
        }
      ]
    },
    {
      "cell_type": "markdown",
      "source": [
        "## Mencoba hasil prediksi model dengan tweet baru"
      ],
      "metadata": {
        "id": "jXkRJxOAJGw3"
      }
    },
    {
      "cell_type": "code",
      "execution_count": null,
      "metadata": {
        "colab": {
          "base_uri": "https://localhost:8080/"
        },
        "id": "x00-x7E1NMKr",
        "outputId": "0554f205-dd64-45e5-f6ef-20f78d12c8a8"
      },
      "outputs": [
        {
          "output_type": "stream",
          "name": "stdout",
          "text": [
            "Sentimen: positif\n"
          ]
        }
      ],
      "source": [
        "# mencoba model dengan tweet baru\n",
        "tweet = 'Ekonomi semakin maju di kepemimpinan Jokowi.'\n",
        "tweet_vector = vectorizer.transform([tweet])\n",
        "prediction = model.predict(tweet_vector)\n",
        "print('Sentimen:', prediction[0])\n"
      ]
    },
    {
      "cell_type": "markdown",
      "source": [
        "## Summary Classical Model\n",
        "eksperimen dengan classical model mendapatkan\n",
        "\n",
        "*   Hasil Accuracy Train 0.99 menunjukan overtrain, dengan beberapa kali percobaaan masih terjadi hal yang sama\n",
        "*   Hasil Accuracy Test 0.58 artinya masih kurang baik, namun hasil dari prediksi sudah dapat mewakili apabila tujuan dari eksperimen ini lebih kepada melihat kemungkinan arah tweet secara sederhana dengan keterbatasan hardware dan jumlah data\n",
        "*   Hasil Confusion Matriks menunjukan bahwa performa cukup mewakili nilai sentimen dari masing masing tweet\n",
        "\n",
        "\n"
      ],
      "metadata": {
        "id": "p3td6eQaKk3m"
      }
    },
    {
      "cell_type": "markdown",
      "source": [
        "# Neural Model (LSTM)"
      ],
      "metadata": {
        "id": "1qVLj_cDFnQt"
      }
    },
    {
      "cell_type": "code",
      "source": [],
      "metadata": {
        "id": "Xkkp-IZvMLRA"
      },
      "execution_count": null,
      "outputs": []
    },
    {
      "cell_type": "markdown",
      "source": [
        "## Data Split"
      ],
      "metadata": {
        "id": "OVJym_wGJ7r3"
      }
    },
    {
      "cell_type": "code",
      "source": [
        "# Membagi data\n",
        "X_train = data['tweet'].iloc[:int(0.8*len(data))]\n",
        "y_train = data['sentimen'].iloc[:int(0.8*len(data))]\n",
        "X_test = data['tweet'].iloc[int(0.8*len(data)):]\n",
        "y_test = data['sentimen'].iloc[int(0.8*len(data)):]"
      ],
      "metadata": {
        "id": "ibFKtmPlFqjR"
      },
      "execution_count": null,
      "outputs": []
    },
    {
      "cell_type": "markdown",
      "source": [
        "## Tokenize Data"
      ],
      "metadata": {
        "id": "q-pFCgY2J_IC"
      }
    },
    {
      "cell_type": "code",
      "source": [
        "# Tokenisasi Data yang ada\n",
        "tokenizer = Tokenizer(num_words=5000)\n",
        "tokenizer.fit_on_texts(X_train)\n",
        "\n",
        "# Mempersiapkan sequencing data\n",
        "X_train = pad_sequences(tokenizer.texts_to_sequences(X_train), maxlen=200)\n",
        "X_test = pad_sequences(tokenizer.texts_to_sequences(X_test), maxlen=200)\n"
      ],
      "metadata": {
        "id": "pSO5hO3AFqu6"
      },
      "execution_count": null,
      "outputs": []
    },
    {
      "cell_type": "markdown",
      "source": [
        "## Membangun Model"
      ],
      "metadata": {
        "id": "8fGVjA0jKH3x"
      }
    },
    {
      "cell_type": "code",
      "source": [
        "# Membangun model\n",
        "model = Sequential()\n",
        "model.add(Embedding(10000, 128, input_length=200))\n",
        "model.add(LSTM(128))\n",
        "model.add(Dense(1, activation='sigmoid'))\n",
        "\n",
        "# Encoding Data Sentimen\n",
        "le = LabelEncoder()\n",
        "y_train = le.fit_transform(y_train)\n",
        "y_test = le.transform(y_test)\n",
        "\n",
        "# Compile model\n",
        "model.compile(loss='binary_crossentropy', optimizer='adam', metrics=['accuracy'])\n",
        "\n",
        "# Menampilkan seluruh model\n",
        "model.summary()\n"
      ],
      "metadata": {
        "colab": {
          "base_uri": "https://localhost:8080/"
        },
        "id": "dV2l8zexGHl_",
        "outputId": "d03718c2-a236-41b7-b3bb-c9225af2d32a"
      },
      "execution_count": null,
      "outputs": [
        {
          "output_type": "stream",
          "name": "stdout",
          "text": [
            "Model: \"sequential_1\"\n",
            "_________________________________________________________________\n",
            " Layer (type)                Output Shape              Param #   \n",
            "=================================================================\n",
            " embedding_1 (Embedding)     (None, 200, 128)          1280000   \n",
            "                                                                 \n",
            " lstm_1 (LSTM)               (None, 128)               131584    \n",
            "                                                                 \n",
            " dense_1 (Dense)             (None, 1)                 129       \n",
            "                                                                 \n",
            "=================================================================\n",
            "Total params: 1411713 (5.39 MB)\n",
            "Trainable params: 1411713 (5.39 MB)\n",
            "Non-trainable params: 0 (0.00 Byte)\n",
            "_________________________________________________________________\n"
          ]
        }
      ]
    },
    {
      "cell_type": "markdown",
      "source": [
        "## Train Model menggunakan LSTM"
      ],
      "metadata": {
        "id": "OsDwChI-KNrq"
      }
    },
    {
      "cell_type": "code",
      "source": [
        "# Proses Train Model LSTM\n",
        "model.fit(X_train, y_train, epochs=10)\n"
      ],
      "metadata": {
        "colab": {
          "base_uri": "https://localhost:8080/"
        },
        "id": "4AEmMsAeL9G-",
        "outputId": "4ab3d0ad-8bc3-4b42-8f35-d7a094790d28"
      },
      "execution_count": null,
      "outputs": [
        {
          "output_type": "stream",
          "name": "stdout",
          "text": [
            "Epoch 1/10\n",
            "46/46 [==============================] - 44s 736ms/step - loss: 0.0824 - accuracy: 0.3271\n",
            "Epoch 2/10\n",
            "46/46 [==============================] - 29s 615ms/step - loss: -0.0700 - accuracy: 0.3285\n",
            "Epoch 3/10\n",
            "46/46 [==============================] - 19s 405ms/step - loss: -0.2504 - accuracy: 0.3285\n",
            "Epoch 4/10\n",
            "46/46 [==============================] - 17s 368ms/step - loss: -1.5685 - accuracy: 0.3554\n",
            "Epoch 5/10\n",
            "46/46 [==============================] - 17s 375ms/step - loss: -5.0037 - accuracy: 0.5041\n",
            "Epoch 6/10\n",
            "46/46 [==============================] - 20s 427ms/step - loss: -8.4871 - accuracy: 0.5785\n",
            "Epoch 7/10\n",
            "46/46 [==============================] - 17s 375ms/step - loss: -11.5835 - accuracy: 0.6129\n",
            "Epoch 8/10\n",
            "46/46 [==============================] - 17s 373ms/step - loss: -14.1547 - accuracy: 0.6191\n",
            "Epoch 9/10\n",
            "46/46 [==============================] - 19s 415ms/step - loss: -15.8192 - accuracy: 0.6191\n",
            "Epoch 10/10\n",
            "46/46 [==============================] - 20s 420ms/step - loss: -18.9081 - accuracy: 0.6288\n"
          ]
        },
        {
          "output_type": "execute_result",
          "data": {
            "text/plain": [
              "<keras.src.callbacks.History at 0x7db473fc6cb0>"
            ]
          },
          "metadata": {},
          "execution_count": 46
        }
      ]
    },
    {
      "cell_type": "markdown",
      "source": [
        "## Evaluasi Model"
      ],
      "metadata": {
        "id": "lbUziJo7KUGV"
      }
    },
    {
      "cell_type": "code",
      "source": [
        "# Evaluasi model\n",
        "score = model.evaluate(X_test, y_test, verbose=0)\n",
        "print('Test loss:', score[0])\n",
        "print('Test accuracy:', score[1])"
      ],
      "metadata": {
        "colab": {
          "base_uri": "https://localhost:8080/"
        },
        "id": "Rj8-Ci4HFqrf",
        "outputId": "043c7148-feec-43ed-eac6-90f2a3237ccf"
      },
      "execution_count": null,
      "outputs": [
        {
          "output_type": "stream",
          "name": "stdout",
          "text": [
            "Test loss: -8.33018684387207\n",
            "Test accuracy: 0.45179063081741333\n"
          ]
        }
      ]
    },
    {
      "cell_type": "markdown",
      "source": [
        "## Mencoba hasil prediksi model dengan tweet yang baru"
      ],
      "metadata": {
        "id": "j8nsmCqmKXgD"
      }
    },
    {
      "cell_type": "code",
      "source": [
        "# Memprediksi model dengan tweet baru\n",
        "new_tweet = 'Ekonomi semakin maju di kepemimpinan Jokowi.'\n",
        "new_tweet = new_tweet.lower()  # Convert to lowercase\n",
        "new_tweet = new_tweet.replace('[^a-zA-Z0-9 ]', ' ')  # Remove special characters except spaces\n",
        "new_tweet = tokenizer.texts_to_sequences([new_tweet])\n",
        "new_tweet = pad_sequences(new_tweet, maxlen=200)\n",
        "\n",
        "prediction = model.predict(new_tweet)\n",
        "predicted_class_index = np.argmax(prediction[0])\n",
        "\n",
        "# Menampilkan hasil prediksi\n",
        "if predicted_class_index == 0:\n",
        "    print('Prediction:', 'positif')\n",
        "elif predicted_class_index == 1:\n",
        "    print('Prediction:', 'negatif')\n",
        "else:\n",
        "    print('Prediction:', 'netral')\n",
        "\n"
      ],
      "metadata": {
        "colab": {
          "base_uri": "https://localhost:8080/"
        },
        "id": "cKGL4LGSFqoq",
        "outputId": "7825ef85-b186-4e90-d30b-1a090bd411a1"
      },
      "execution_count": null,
      "outputs": [
        {
          "output_type": "stream",
          "name": "stdout",
          "text": [
            "1/1 [==============================] - 1s 518ms/step\n",
            "Prediction: positif\n"
          ]
        }
      ]
    },
    {
      "cell_type": "markdown",
      "source": [
        "## Summary LSTM\n",
        "Pada eksperimen dengan LSTM, dengan dataset yang ada menghasilkan\n",
        "\n",
        "\n",
        "*   Test Loss sebesar -10 yang artinya perlu ada tindak lanjut terkait dengan analisas loss\n",
        "*   Test Accuracy 0.46 yang artinya masih model masih kurang baik\n",
        "*   Meskipun hasil masih kurang baik namum prediction masih menunjukan hasil yang sama untuk tweet yang sama pada eksperimen random forest\n",
        "\n",
        "\n",
        "\n"
      ],
      "metadata": {
        "id": "Hw412sDYFnNO"
      }
    },
    {
      "cell_type": "markdown",
      "source": [
        "# Summary of this Project\n",
        "Dari dataset yang ada dengan dibatasi pada model Random Forest dan LSTM dapat disimpulkan bahwa hasil Random Forest lebih baik dari LSTM, hal ini muncul karena\n",
        "\n",
        "* Pada eksperimen dengan LSTM,\n",
        "** dengan data yang ada dirasa kurang optimal untuk belajar dengan polay yang kompleks\n",
        "\n",
        "* Pada eksperimen dengan Randomforest,\n",
        "** Lebih efisien dan efektif pada data yang kecil sehingga mampu mengklasifikasi data dengan baik\n",
        "\n"
      ],
      "metadata": {
        "id": "UdE9DoCkFnKg"
      }
    },
    {
      "cell_type": "markdown",
      "source": [
        "# Future Improvement\n",
        "\n",
        "\n",
        "*   Keterbatasan data yang perlu menjadi pehatian utama, sehingga perlu tambahan data yang lebih banyak lagi untuk meningkatkan performa model\n",
        "*   Keakurasian data label sentimen yang ada, hasil analisa dengan menggunakan Vader (diluar dari proses ini) menunjukan ada kemungkinan terjadi kesalahan lebeling sentimen dari tweet\n",
        "* Perlu dilakukan percobaan dengan model dan hyperparameter yang lainnya untuk melihat hasil yang baik\n",
        "\n"
      ],
      "metadata": {
        "id": "sUuzDAQjT3XQ"
      }
    }
  ],
  "metadata": {
    "colab": {
      "provenance": [],
      "toc_visible": true,
      "include_colab_link": true
    },
    "kernelspec": {
      "display_name": "Python 3",
      "name": "python3"
    },
    "language_info": {
      "name": "python"
    }
  },
  "nbformat": 4,
  "nbformat_minor": 0
}